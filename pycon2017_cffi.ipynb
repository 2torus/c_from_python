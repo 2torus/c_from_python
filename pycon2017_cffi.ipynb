{
 "cells": [
  {
   "cell_type": "markdown",
   "metadata": {
    "collapsed": true,
    "nbpresent": {
     "id": "d84a79e5-1ef9-4dea-9e2e-690a912553b4"
    },
    "slideshow": {
     "slide_type": "slide"
    }
   },
   "source": [
    "## CFFI, Ctypes, Cython: The good, the bad and the ugly\n",
    "\n",
    "## Pycon Israel 2017\n",
    "\n",
    "## Matti Picus"
   ]
  },
  {
   "cell_type": "markdown",
   "metadata": {
    "nbpresent": {
     "id": "0cfda04e-01da-4674-a90f-b132bbebf844"
    },
    "slideshow": {
     "slide_type": "slide"
    }
   },
   "source": [
    "![The movie poster](https://images-na.ssl-images-amazon.com/images/M/MV5BMTQxNDcyMjE4NF5BMl5BanBnXkFtZTgwNTU4ODE5MDE@._V1_.jpg)"
   ]
  },
  {
   "cell_type": "markdown",
   "metadata": {
    "nbpresent": {
     "id": "7a62ed08-bb60-4ebb-b5f2-fbb7af3a0b6e"
    }
   },
   "source": [
    "### Why did you bother to show up? There is a lecture about Grumpy next door\n",
    "\n",
    "Here is what we will do\n",
    "\n",
    "<p></p>\n",
    "<details>\n",
    "<summary>The ``mandel`` image (5 minutes)</summary>  \n",
    "  \n",
    "  - Pure python  \n",
    "  - Pure C  \n",
    "  - Timing it\n",
    "</details>  \n",
    "<p></p>\n",
    "<details>\n",
    "<summary>How to mix C and Python (10 minutes)</summary>  \n",
    "  - Ctypes  \n",
    "  - Cython  \n",
    "  - CFFI\n",
    "</details>  \n",
    "<p></p>\n",
    "<details>\n",
    "<summary>Comparison - which is the good, the bad, and the ugly (10 minutes)</summary>  \n",
    "  - Boilerplate  \n",
    "  - Maintenance  \n",
    "  - Speed\n",
    "</details>  \n",
    "Questions"
   ]
  },
  {
   "cell_type": "code",
   "execution_count": 2,
   "metadata": {
    "collapsed": false,
    "nbpresent": {
     "id": "c687a4f1-bace-4d72-8fdf-d08ae4c34a19"
    },
    "slideshow": {
     "slide_type": "slide"
    }
   },
   "outputs": [],
   "source": [
    "from __future__ import print_function, division\n",
    "%matplotlib notebook\n",
    "\n",
    "def mandel(x, y, max_iters, value):\n",
    "    \"\"\"\n",
    "    Given the real and imaginary parts of a complex number,\n",
    "    determine if it is a candidate for membership in the Mandelbrot\n",
    "    set given a fixed number of iterations.\n",
    "    \"\"\"\n",
    "    i = 0\n",
    "    c = complex(x,y)\n",
    "    z = 0.0j\n",
    "    for i in range(max_iters):\n",
    "        z = z*z + c\n",
    "        if (z.real*z.real + z.imag*z.imag) >= 4:\n",
    "            value[0] = i\n",
    "            return 0\n",
    "    value[0] = 255\n",
    "    return 1\n"
   ]
  },
  {
   "cell_type": "code",
   "execution_count": 3,
   "metadata": {
    "collapsed": true,
    "nbpresent": {
     "id": "ab8a8171-ccc1-40d7-88fb-e05d0ae3dd40"
    },
    "slideshow": {
     "slide_type": "slide"
    }
   },
   "outputs": [],
   "source": [
    "def create_fractal(image, width, height, iters):\n",
    "    pixel_size_x = 3.0 / width\n",
    "    pixel_size_y = 2.0 / height\n",
    "    for y in range(height):\n",
    "        imag = y * pixel_size_y - 1\n",
    "        yy = y*width\n",
    "        for x in range(width):\n",
    "            real = x * pixel_size_x - 2\n",
    "            mandel(real, imag, iters, image[yy+x:yy+x+1])\n",
    "\n"
   ]
  },
  {
   "cell_type": "code",
   "execution_count": 13,
   "metadata": {
    "collapsed": false,
    "slideshow": {
     "slide_type": "slide"
    }
   },
   "outputs": [
    {
     "name": "stdout",
     "output_type": "stream",
     "text": [
      "pure python required 7.57 secs\n"
     ]
    }
   ],
   "source": [
    "# Pure python\n",
    "from timeit import default_timer as timer\n",
    "import numpy as np\n",
    "from PIL import Image\n",
    "width = 1500\n",
    "height = 1000\n",
    "image = np.zeros(width*height, dtype=np.uint8)\n",
    "s = timer()\n",
    "create_fractal(image, width, height, 20)\n",
    "e = timer()\n",
    "print('pure python required {:.2f} secs'.format(e - s))\n",
    "im = Image.frombuffer('L', (width, height), image, 'raw', 'L', 0, 1)\n",
    "im.save('python_numpy.png')"
   ]
  },
  {
   "cell_type": "code",
   "execution_count": 14,
   "metadata": {
    "collapsed": false,
    "slideshow": {
     "slide_type": "slide"
    }
   },
   "outputs": [
    {
     "data": {
      "application/javascript": [
       "/* Put everything inside the global mpl namespace */\n",
       "window.mpl = {};\n",
       "\n",
       "\n",
       "mpl.get_websocket_type = function() {\n",
       "    if (typeof(WebSocket) !== 'undefined') {\n",
       "        return WebSocket;\n",
       "    } else if (typeof(MozWebSocket) !== 'undefined') {\n",
       "        return MozWebSocket;\n",
       "    } else {\n",
       "        alert('Your browser does not have WebSocket support.' +\n",
       "              'Please try Chrome, Safari or Firefox ≥ 6. ' +\n",
       "              'Firefox 4 and 5 are also supported but you ' +\n",
       "              'have to enable WebSockets in about:config.');\n",
       "    };\n",
       "}\n",
       "\n",
       "mpl.figure = function(figure_id, websocket, ondownload, parent_element) {\n",
       "    this.id = figure_id;\n",
       "\n",
       "    this.ws = websocket;\n",
       "\n",
       "    this.supports_binary = (this.ws.binaryType != undefined);\n",
       "\n",
       "    if (!this.supports_binary) {\n",
       "        var warnings = document.getElementById(\"mpl-warnings\");\n",
       "        if (warnings) {\n",
       "            warnings.style.display = 'block';\n",
       "            warnings.textContent = (\n",
       "                \"This browser does not support binary websocket messages. \" +\n",
       "                    \"Performance may be slow.\");\n",
       "        }\n",
       "    }\n",
       "\n",
       "    this.imageObj = new Image();\n",
       "\n",
       "    this.context = undefined;\n",
       "    this.message = undefined;\n",
       "    this.canvas = undefined;\n",
       "    this.rubberband_canvas = undefined;\n",
       "    this.rubberband_context = undefined;\n",
       "    this.format_dropdown = undefined;\n",
       "\n",
       "    this.image_mode = 'full';\n",
       "\n",
       "    this.root = $('<div/>');\n",
       "    this._root_extra_style(this.root)\n",
       "    this.root.attr('style', 'display: inline-block');\n",
       "\n",
       "    $(parent_element).append(this.root);\n",
       "\n",
       "    this._init_header(this);\n",
       "    this._init_canvas(this);\n",
       "    this._init_toolbar(this);\n",
       "\n",
       "    var fig = this;\n",
       "\n",
       "    this.waiting = false;\n",
       "\n",
       "    this.ws.onopen =  function () {\n",
       "            fig.send_message(\"supports_binary\", {value: fig.supports_binary});\n",
       "            fig.send_message(\"send_image_mode\", {});\n",
       "            if (mpl.ratio != 1) {\n",
       "                fig.send_message(\"set_dpi_ratio\", {'dpi_ratio': mpl.ratio});\n",
       "            }\n",
       "            fig.send_message(\"refresh\", {});\n",
       "        }\n",
       "\n",
       "    this.imageObj.onload = function() {\n",
       "            if (fig.image_mode == 'full') {\n",
       "                // Full images could contain transparency (where diff images\n",
       "                // almost always do), so we need to clear the canvas so that\n",
       "                // there is no ghosting.\n",
       "                fig.context.clearRect(0, 0, fig.canvas.width, fig.canvas.height);\n",
       "            }\n",
       "            fig.context.drawImage(fig.imageObj, 0, 0);\n",
       "        };\n",
       "\n",
       "    this.imageObj.onunload = function() {\n",
       "        this.ws.close();\n",
       "    }\n",
       "\n",
       "    this.ws.onmessage = this._make_on_message_function(this);\n",
       "\n",
       "    this.ondownload = ondownload;\n",
       "}\n",
       "\n",
       "mpl.figure.prototype._init_header = function() {\n",
       "    var titlebar = $(\n",
       "        '<div class=\"ui-dialog-titlebar ui-widget-header ui-corner-all ' +\n",
       "        'ui-helper-clearfix\"/>');\n",
       "    var titletext = $(\n",
       "        '<div class=\"ui-dialog-title\" style=\"width: 100%; ' +\n",
       "        'text-align: center; padding: 3px;\"/>');\n",
       "    titlebar.append(titletext)\n",
       "    this.root.append(titlebar);\n",
       "    this.header = titletext[0];\n",
       "}\n",
       "\n",
       "\n",
       "\n",
       "mpl.figure.prototype._canvas_extra_style = function(canvas_div) {\n",
       "\n",
       "}\n",
       "\n",
       "\n",
       "mpl.figure.prototype._root_extra_style = function(canvas_div) {\n",
       "\n",
       "}\n",
       "\n",
       "mpl.figure.prototype._init_canvas = function() {\n",
       "    var fig = this;\n",
       "\n",
       "    var canvas_div = $('<div/>');\n",
       "\n",
       "    canvas_div.attr('style', 'position: relative; clear: both; outline: 0');\n",
       "\n",
       "    function canvas_keyboard_event(event) {\n",
       "        return fig.key_event(event, event['data']);\n",
       "    }\n",
       "\n",
       "    canvas_div.keydown('key_press', canvas_keyboard_event);\n",
       "    canvas_div.keyup('key_release', canvas_keyboard_event);\n",
       "    this.canvas_div = canvas_div\n",
       "    this._canvas_extra_style(canvas_div)\n",
       "    this.root.append(canvas_div);\n",
       "\n",
       "    var canvas = $('<canvas/>');\n",
       "    canvas.addClass('mpl-canvas');\n",
       "    canvas.attr('style', \"left: 0; top: 0; z-index: 0; outline: 0\")\n",
       "\n",
       "    this.canvas = canvas[0];\n",
       "    this.context = canvas[0].getContext(\"2d\");\n",
       "\n",
       "    var backingStore = this.context.backingStorePixelRatio ||\n",
       "\tthis.context.webkitBackingStorePixelRatio ||\n",
       "\tthis.context.mozBackingStorePixelRatio ||\n",
       "\tthis.context.msBackingStorePixelRatio ||\n",
       "\tthis.context.oBackingStorePixelRatio ||\n",
       "\tthis.context.backingStorePixelRatio || 1;\n",
       "\n",
       "    mpl.ratio = (window.devicePixelRatio || 1) / backingStore;\n",
       "\n",
       "    var rubberband = $('<canvas/>');\n",
       "    rubberband.attr('style', \"position: absolute; left: 0; top: 0; z-index: 1;\")\n",
       "\n",
       "    var pass_mouse_events = true;\n",
       "\n",
       "    canvas_div.resizable({\n",
       "        start: function(event, ui) {\n",
       "            pass_mouse_events = false;\n",
       "        },\n",
       "        resize: function(event, ui) {\n",
       "            fig.request_resize(ui.size.width, ui.size.height);\n",
       "        },\n",
       "        stop: function(event, ui) {\n",
       "            pass_mouse_events = true;\n",
       "            fig.request_resize(ui.size.width, ui.size.height);\n",
       "        },\n",
       "    });\n",
       "\n",
       "    function mouse_event_fn(event) {\n",
       "        if (pass_mouse_events)\n",
       "            return fig.mouse_event(event, event['data']);\n",
       "    }\n",
       "\n",
       "    rubberband.mousedown('button_press', mouse_event_fn);\n",
       "    rubberband.mouseup('button_release', mouse_event_fn);\n",
       "    // Throttle sequential mouse events to 1 every 20ms.\n",
       "    rubberband.mousemove('motion_notify', mouse_event_fn);\n",
       "\n",
       "    rubberband.mouseenter('figure_enter', mouse_event_fn);\n",
       "    rubberband.mouseleave('figure_leave', mouse_event_fn);\n",
       "\n",
       "    canvas_div.on(\"wheel\", function (event) {\n",
       "        event = event.originalEvent;\n",
       "        event['data'] = 'scroll'\n",
       "        if (event.deltaY < 0) {\n",
       "            event.step = 1;\n",
       "        } else {\n",
       "            event.step = -1;\n",
       "        }\n",
       "        mouse_event_fn(event);\n",
       "    });\n",
       "\n",
       "    canvas_div.append(canvas);\n",
       "    canvas_div.append(rubberband);\n",
       "\n",
       "    this.rubberband = rubberband;\n",
       "    this.rubberband_canvas = rubberband[0];\n",
       "    this.rubberband_context = rubberband[0].getContext(\"2d\");\n",
       "    this.rubberband_context.strokeStyle = \"#000000\";\n",
       "\n",
       "    this._resize_canvas = function(width, height) {\n",
       "        // Keep the size of the canvas, canvas container, and rubber band\n",
       "        // canvas in synch.\n",
       "        canvas_div.css('width', width)\n",
       "        canvas_div.css('height', height)\n",
       "\n",
       "        canvas.attr('width', width * mpl.ratio);\n",
       "        canvas.attr('height', height * mpl.ratio);\n",
       "        canvas.attr('style', 'width: ' + width + 'px; height: ' + height + 'px;');\n",
       "\n",
       "        rubberband.attr('width', width);\n",
       "        rubberband.attr('height', height);\n",
       "    }\n",
       "\n",
       "    // Set the figure to an initial 600x600px, this will subsequently be updated\n",
       "    // upon first draw.\n",
       "    this._resize_canvas(600, 600);\n",
       "\n",
       "    // Disable right mouse context menu.\n",
       "    $(this.rubberband_canvas).bind(\"contextmenu\",function(e){\n",
       "        return false;\n",
       "    });\n",
       "\n",
       "    function set_focus () {\n",
       "        canvas.focus();\n",
       "        canvas_div.focus();\n",
       "    }\n",
       "\n",
       "    window.setTimeout(set_focus, 100);\n",
       "}\n",
       "\n",
       "mpl.figure.prototype._init_toolbar = function() {\n",
       "    var fig = this;\n",
       "\n",
       "    var nav_element = $('<div/>')\n",
       "    nav_element.attr('style', 'width: 100%');\n",
       "    this.root.append(nav_element);\n",
       "\n",
       "    // Define a callback function for later on.\n",
       "    function toolbar_event(event) {\n",
       "        return fig.toolbar_button_onclick(event['data']);\n",
       "    }\n",
       "    function toolbar_mouse_event(event) {\n",
       "        return fig.toolbar_button_onmouseover(event['data']);\n",
       "    }\n",
       "\n",
       "    for(var toolbar_ind in mpl.toolbar_items) {\n",
       "        var name = mpl.toolbar_items[toolbar_ind][0];\n",
       "        var tooltip = mpl.toolbar_items[toolbar_ind][1];\n",
       "        var image = mpl.toolbar_items[toolbar_ind][2];\n",
       "        var method_name = mpl.toolbar_items[toolbar_ind][3];\n",
       "\n",
       "        if (!name) {\n",
       "            // put a spacer in here.\n",
       "            continue;\n",
       "        }\n",
       "        var button = $('<button/>');\n",
       "        button.addClass('ui-button ui-widget ui-state-default ui-corner-all ' +\n",
       "                        'ui-button-icon-only');\n",
       "        button.attr('role', 'button');\n",
       "        button.attr('aria-disabled', 'false');\n",
       "        button.click(method_name, toolbar_event);\n",
       "        button.mouseover(tooltip, toolbar_mouse_event);\n",
       "\n",
       "        var icon_img = $('<span/>');\n",
       "        icon_img.addClass('ui-button-icon-primary ui-icon');\n",
       "        icon_img.addClass(image);\n",
       "        icon_img.addClass('ui-corner-all');\n",
       "\n",
       "        var tooltip_span = $('<span/>');\n",
       "        tooltip_span.addClass('ui-button-text');\n",
       "        tooltip_span.html(tooltip);\n",
       "\n",
       "        button.append(icon_img);\n",
       "        button.append(tooltip_span);\n",
       "\n",
       "        nav_element.append(button);\n",
       "    }\n",
       "\n",
       "    var fmt_picker_span = $('<span/>');\n",
       "\n",
       "    var fmt_picker = $('<select/>');\n",
       "    fmt_picker.addClass('mpl-toolbar-option ui-widget ui-widget-content');\n",
       "    fmt_picker_span.append(fmt_picker);\n",
       "    nav_element.append(fmt_picker_span);\n",
       "    this.format_dropdown = fmt_picker[0];\n",
       "\n",
       "    for (var ind in mpl.extensions) {\n",
       "        var fmt = mpl.extensions[ind];\n",
       "        var option = $(\n",
       "            '<option/>', {selected: fmt === mpl.default_extension}).html(fmt);\n",
       "        fmt_picker.append(option)\n",
       "    }\n",
       "\n",
       "    // Add hover states to the ui-buttons\n",
       "    $( \".ui-button\" ).hover(\n",
       "        function() { $(this).addClass(\"ui-state-hover\");},\n",
       "        function() { $(this).removeClass(\"ui-state-hover\");}\n",
       "    );\n",
       "\n",
       "    var status_bar = $('<span class=\"mpl-message\"/>');\n",
       "    nav_element.append(status_bar);\n",
       "    this.message = status_bar[0];\n",
       "}\n",
       "\n",
       "mpl.figure.prototype.request_resize = function(x_pixels, y_pixels) {\n",
       "    // Request matplotlib to resize the figure. Matplotlib will then trigger a resize in the client,\n",
       "    // which will in turn request a refresh of the image.\n",
       "    this.send_message('resize', {'width': x_pixels, 'height': y_pixels});\n",
       "}\n",
       "\n",
       "mpl.figure.prototype.send_message = function(type, properties) {\n",
       "    properties['type'] = type;\n",
       "    properties['figure_id'] = this.id;\n",
       "    this.ws.send(JSON.stringify(properties));\n",
       "}\n",
       "\n",
       "mpl.figure.prototype.send_draw_message = function() {\n",
       "    if (!this.waiting) {\n",
       "        this.waiting = true;\n",
       "        this.ws.send(JSON.stringify({type: \"draw\", figure_id: this.id}));\n",
       "    }\n",
       "}\n",
       "\n",
       "\n",
       "mpl.figure.prototype.handle_save = function(fig, msg) {\n",
       "    var format_dropdown = fig.format_dropdown;\n",
       "    var format = format_dropdown.options[format_dropdown.selectedIndex].value;\n",
       "    fig.ondownload(fig, format);\n",
       "}\n",
       "\n",
       "\n",
       "mpl.figure.prototype.handle_resize = function(fig, msg) {\n",
       "    var size = msg['size'];\n",
       "    if (size[0] != fig.canvas.width || size[1] != fig.canvas.height) {\n",
       "        fig._resize_canvas(size[0], size[1]);\n",
       "        fig.send_message(\"refresh\", {});\n",
       "    };\n",
       "}\n",
       "\n",
       "mpl.figure.prototype.handle_rubberband = function(fig, msg) {\n",
       "    var x0 = msg['x0'] / mpl.ratio;\n",
       "    var y0 = (fig.canvas.height - msg['y0']) / mpl.ratio;\n",
       "    var x1 = msg['x1'] / mpl.ratio;\n",
       "    var y1 = (fig.canvas.height - msg['y1']) / mpl.ratio;\n",
       "    x0 = Math.floor(x0) + 0.5;\n",
       "    y0 = Math.floor(y0) + 0.5;\n",
       "    x1 = Math.floor(x1) + 0.5;\n",
       "    y1 = Math.floor(y1) + 0.5;\n",
       "    var min_x = Math.min(x0, x1);\n",
       "    var min_y = Math.min(y0, y1);\n",
       "    var width = Math.abs(x1 - x0);\n",
       "    var height = Math.abs(y1 - y0);\n",
       "\n",
       "    fig.rubberband_context.clearRect(\n",
       "        0, 0, fig.canvas.width, fig.canvas.height);\n",
       "\n",
       "    fig.rubberband_context.strokeRect(min_x, min_y, width, height);\n",
       "}\n",
       "\n",
       "mpl.figure.prototype.handle_figure_label = function(fig, msg) {\n",
       "    // Updates the figure title.\n",
       "    fig.header.textContent = msg['label'];\n",
       "}\n",
       "\n",
       "mpl.figure.prototype.handle_cursor = function(fig, msg) {\n",
       "    var cursor = msg['cursor'];\n",
       "    switch(cursor)\n",
       "    {\n",
       "    case 0:\n",
       "        cursor = 'pointer';\n",
       "        break;\n",
       "    case 1:\n",
       "        cursor = 'default';\n",
       "        break;\n",
       "    case 2:\n",
       "        cursor = 'crosshair';\n",
       "        break;\n",
       "    case 3:\n",
       "        cursor = 'move';\n",
       "        break;\n",
       "    }\n",
       "    fig.rubberband_canvas.style.cursor = cursor;\n",
       "}\n",
       "\n",
       "mpl.figure.prototype.handle_message = function(fig, msg) {\n",
       "    fig.message.textContent = msg['message'];\n",
       "}\n",
       "\n",
       "mpl.figure.prototype.handle_draw = function(fig, msg) {\n",
       "    // Request the server to send over a new figure.\n",
       "    fig.send_draw_message();\n",
       "}\n",
       "\n",
       "mpl.figure.prototype.handle_image_mode = function(fig, msg) {\n",
       "    fig.image_mode = msg['mode'];\n",
       "}\n",
       "\n",
       "mpl.figure.prototype.updated_canvas_event = function() {\n",
       "    // Called whenever the canvas gets updated.\n",
       "    this.send_message(\"ack\", {});\n",
       "}\n",
       "\n",
       "// A function to construct a web socket function for onmessage handling.\n",
       "// Called in the figure constructor.\n",
       "mpl.figure.prototype._make_on_message_function = function(fig) {\n",
       "    return function socket_on_message(evt) {\n",
       "        if (evt.data instanceof Blob) {\n",
       "            /* FIXME: We get \"Resource interpreted as Image but\n",
       "             * transferred with MIME type text/plain:\" errors on\n",
       "             * Chrome.  But how to set the MIME type?  It doesn't seem\n",
       "             * to be part of the websocket stream */\n",
       "            evt.data.type = \"image/png\";\n",
       "\n",
       "            /* Free the memory for the previous frames */\n",
       "            if (fig.imageObj.src) {\n",
       "                (window.URL || window.webkitURL).revokeObjectURL(\n",
       "                    fig.imageObj.src);\n",
       "            }\n",
       "\n",
       "            fig.imageObj.src = (window.URL || window.webkitURL).createObjectURL(\n",
       "                evt.data);\n",
       "            fig.updated_canvas_event();\n",
       "            fig.waiting = false;\n",
       "            return;\n",
       "        }\n",
       "        else if (typeof evt.data === 'string' && evt.data.slice(0, 21) == \"data:image/png;base64\") {\n",
       "            fig.imageObj.src = evt.data;\n",
       "            fig.updated_canvas_event();\n",
       "            fig.waiting = false;\n",
       "            return;\n",
       "        }\n",
       "\n",
       "        var msg = JSON.parse(evt.data);\n",
       "        var msg_type = msg['type'];\n",
       "\n",
       "        // Call the  \"handle_{type}\" callback, which takes\n",
       "        // the figure and JSON message as its only arguments.\n",
       "        try {\n",
       "            var callback = fig[\"handle_\" + msg_type];\n",
       "        } catch (e) {\n",
       "            console.log(\"No handler for the '\" + msg_type + \"' message type: \", msg);\n",
       "            return;\n",
       "        }\n",
       "\n",
       "        if (callback) {\n",
       "            try {\n",
       "                // console.log(\"Handling '\" + msg_type + \"' message: \", msg);\n",
       "                callback(fig, msg);\n",
       "            } catch (e) {\n",
       "                console.log(\"Exception inside the 'handler_\" + msg_type + \"' callback:\", e, e.stack, msg);\n",
       "            }\n",
       "        }\n",
       "    };\n",
       "}\n",
       "\n",
       "// from http://stackoverflow.com/questions/1114465/getting-mouse-location-in-canvas\n",
       "mpl.findpos = function(e) {\n",
       "    //this section is from http://www.quirksmode.org/js/events_properties.html\n",
       "    var targ;\n",
       "    if (!e)\n",
       "        e = window.event;\n",
       "    if (e.target)\n",
       "        targ = e.target;\n",
       "    else if (e.srcElement)\n",
       "        targ = e.srcElement;\n",
       "    if (targ.nodeType == 3) // defeat Safari bug\n",
       "        targ = targ.parentNode;\n",
       "\n",
       "    // jQuery normalizes the pageX and pageY\n",
       "    // pageX,Y are the mouse positions relative to the document\n",
       "    // offset() returns the position of the element relative to the document\n",
       "    var x = e.pageX - $(targ).offset().left;\n",
       "    var y = e.pageY - $(targ).offset().top;\n",
       "\n",
       "    return {\"x\": x, \"y\": y};\n",
       "};\n",
       "\n",
       "/*\n",
       " * return a copy of an object with only non-object keys\n",
       " * we need this to avoid circular references\n",
       " * http://stackoverflow.com/a/24161582/3208463\n",
       " */\n",
       "function simpleKeys (original) {\n",
       "  return Object.keys(original).reduce(function (obj, key) {\n",
       "    if (typeof original[key] !== 'object')\n",
       "        obj[key] = original[key]\n",
       "    return obj;\n",
       "  }, {});\n",
       "}\n",
       "\n",
       "mpl.figure.prototype.mouse_event = function(event, name) {\n",
       "    var canvas_pos = mpl.findpos(event)\n",
       "\n",
       "    if (name === 'button_press')\n",
       "    {\n",
       "        this.canvas.focus();\n",
       "        this.canvas_div.focus();\n",
       "    }\n",
       "\n",
       "    var x = canvas_pos.x * mpl.ratio;\n",
       "    var y = canvas_pos.y * mpl.ratio;\n",
       "\n",
       "    this.send_message(name, {x: x, y: y, button: event.button,\n",
       "                             step: event.step,\n",
       "                             guiEvent: simpleKeys(event)});\n",
       "\n",
       "    /* This prevents the web browser from automatically changing to\n",
       "     * the text insertion cursor when the button is pressed.  We want\n",
       "     * to control all of the cursor setting manually through the\n",
       "     * 'cursor' event from matplotlib */\n",
       "    event.preventDefault();\n",
       "    return false;\n",
       "}\n",
       "\n",
       "mpl.figure.prototype._key_event_extra = function(event, name) {\n",
       "    // Handle any extra behaviour associated with a key event\n",
       "}\n",
       "\n",
       "mpl.figure.prototype.key_event = function(event, name) {\n",
       "\n",
       "    // Prevent repeat events\n",
       "    if (name == 'key_press')\n",
       "    {\n",
       "        if (event.which === this._key)\n",
       "            return;\n",
       "        else\n",
       "            this._key = event.which;\n",
       "    }\n",
       "    if (name == 'key_release')\n",
       "        this._key = null;\n",
       "\n",
       "    var value = '';\n",
       "    if (event.ctrlKey && event.which != 17)\n",
       "        value += \"ctrl+\";\n",
       "    if (event.altKey && event.which != 18)\n",
       "        value += \"alt+\";\n",
       "    if (event.shiftKey && event.which != 16)\n",
       "        value += \"shift+\";\n",
       "\n",
       "    value += 'k';\n",
       "    value += event.which.toString();\n",
       "\n",
       "    this._key_event_extra(event, name);\n",
       "\n",
       "    this.send_message(name, {key: value,\n",
       "                             guiEvent: simpleKeys(event)});\n",
       "    return false;\n",
       "}\n",
       "\n",
       "mpl.figure.prototype.toolbar_button_onclick = function(name) {\n",
       "    if (name == 'download') {\n",
       "        this.handle_save(this, null);\n",
       "    } else {\n",
       "        this.send_message(\"toolbar_button\", {name: name});\n",
       "    }\n",
       "};\n",
       "\n",
       "mpl.figure.prototype.toolbar_button_onmouseover = function(tooltip) {\n",
       "    this.message.textContent = tooltip;\n",
       "};\n",
       "mpl.toolbar_items = [[\"Home\", \"Reset original view\", \"fa fa-home icon-home\", \"home\"], [\"Back\", \"Back to  previous view\", \"fa fa-arrow-left icon-arrow-left\", \"back\"], [\"Forward\", \"Forward to next view\", \"fa fa-arrow-right icon-arrow-right\", \"forward\"], [\"\", \"\", \"\", \"\"], [\"Pan\", \"Pan axes with left mouse, zoom with right\", \"fa fa-arrows icon-move\", \"pan\"], [\"Zoom\", \"Zoom to rectangle\", \"fa fa-square-o icon-check-empty\", \"zoom\"], [\"\", \"\", \"\", \"\"], [\"Download\", \"Download plot\", \"fa fa-floppy-o icon-save\", \"download\"]];\n",
       "\n",
       "mpl.extensions = [\"eps\", \"jpeg\", \"pdf\", \"png\", \"ps\", \"raw\", \"svg\", \"tif\"];\n",
       "\n",
       "mpl.default_extension = \"png\";var comm_websocket_adapter = function(comm) {\n",
       "    // Create a \"websocket\"-like object which calls the given IPython comm\n",
       "    // object with the appropriate methods. Currently this is a non binary\n",
       "    // socket, so there is still some room for performance tuning.\n",
       "    var ws = {};\n",
       "\n",
       "    ws.close = function() {\n",
       "        comm.close()\n",
       "    };\n",
       "    ws.send = function(m) {\n",
       "        //console.log('sending', m);\n",
       "        comm.send(m);\n",
       "    };\n",
       "    // Register the callback with on_msg.\n",
       "    comm.on_msg(function(msg) {\n",
       "        //console.log('receiving', msg['content']['data'], msg);\n",
       "        // Pass the mpl event to the overriden (by mpl) onmessage function.\n",
       "        ws.onmessage(msg['content']['data'])\n",
       "    });\n",
       "    return ws;\n",
       "}\n",
       "\n",
       "mpl.mpl_figure_comm = function(comm, msg) {\n",
       "    // This is the function which gets called when the mpl process\n",
       "    // starts-up an IPython Comm through the \"matplotlib\" channel.\n",
       "\n",
       "    var id = msg.content.data.id;\n",
       "    // Get hold of the div created by the display call when the Comm\n",
       "    // socket was opened in Python.\n",
       "    var element = $(\"#\" + id);\n",
       "    var ws_proxy = comm_websocket_adapter(comm)\n",
       "\n",
       "    function ondownload(figure, format) {\n",
       "        window.open(figure.imageObj.src);\n",
       "    }\n",
       "\n",
       "    var fig = new mpl.figure(id, ws_proxy,\n",
       "                           ondownload,\n",
       "                           element.get(0));\n",
       "\n",
       "    // Call onopen now - mpl needs it, as it is assuming we've passed it a real\n",
       "    // web socket which is closed, not our websocket->open comm proxy.\n",
       "    ws_proxy.onopen();\n",
       "\n",
       "    fig.parent_element = element.get(0);\n",
       "    fig.cell_info = mpl.find_output_cell(\"<div id='\" + id + \"'></div>\");\n",
       "    if (!fig.cell_info) {\n",
       "        console.error(\"Failed to find cell for figure\", id, fig);\n",
       "        return;\n",
       "    }\n",
       "\n",
       "    var output_index = fig.cell_info[2]\n",
       "    var cell = fig.cell_info[0];\n",
       "\n",
       "};\n",
       "\n",
       "mpl.figure.prototype.handle_close = function(fig, msg) {\n",
       "    var width = fig.canvas.width/mpl.ratio\n",
       "    fig.root.unbind('remove')\n",
       "\n",
       "    // Update the output cell to use the data from the current canvas.\n",
       "    fig.push_to_output();\n",
       "    var dataURL = fig.canvas.toDataURL();\n",
       "    // Re-enable the keyboard manager in IPython - without this line, in FF,\n",
       "    // the notebook keyboard shortcuts fail.\n",
       "    IPython.keyboard_manager.enable()\n",
       "    $(fig.parent_element).html('<img src=\"' + dataURL + '\" width=\"' + width + '\">');\n",
       "    fig.close_ws(fig, msg);\n",
       "}\n",
       "\n",
       "mpl.figure.prototype.close_ws = function(fig, msg){\n",
       "    fig.send_message('closing', msg);\n",
       "    // fig.ws.close()\n",
       "}\n",
       "\n",
       "mpl.figure.prototype.push_to_output = function(remove_interactive) {\n",
       "    // Turn the data on the canvas into data in the output cell.\n",
       "    var width = this.canvas.width/mpl.ratio\n",
       "    var dataURL = this.canvas.toDataURL();\n",
       "    this.cell_info[1]['text/html'] = '<img src=\"' + dataURL + '\" width=\"' + width + '\">';\n",
       "}\n",
       "\n",
       "mpl.figure.prototype.updated_canvas_event = function() {\n",
       "    // Tell IPython that the notebook contents must change.\n",
       "    IPython.notebook.set_dirty(true);\n",
       "    this.send_message(\"ack\", {});\n",
       "    var fig = this;\n",
       "    // Wait a second, then push the new image to the DOM so\n",
       "    // that it is saved nicely (might be nice to debounce this).\n",
       "    setTimeout(function () { fig.push_to_output() }, 1000);\n",
       "}\n",
       "\n",
       "mpl.figure.prototype._init_toolbar = function() {\n",
       "    var fig = this;\n",
       "\n",
       "    var nav_element = $('<div/>')\n",
       "    nav_element.attr('style', 'width: 100%');\n",
       "    this.root.append(nav_element);\n",
       "\n",
       "    // Define a callback function for later on.\n",
       "    function toolbar_event(event) {\n",
       "        return fig.toolbar_button_onclick(event['data']);\n",
       "    }\n",
       "    function toolbar_mouse_event(event) {\n",
       "        return fig.toolbar_button_onmouseover(event['data']);\n",
       "    }\n",
       "\n",
       "    for(var toolbar_ind in mpl.toolbar_items){\n",
       "        var name = mpl.toolbar_items[toolbar_ind][0];\n",
       "        var tooltip = mpl.toolbar_items[toolbar_ind][1];\n",
       "        var image = mpl.toolbar_items[toolbar_ind][2];\n",
       "        var method_name = mpl.toolbar_items[toolbar_ind][3];\n",
       "\n",
       "        if (!name) { continue; };\n",
       "\n",
       "        var button = $('<button class=\"btn btn-default\" href=\"#\" title=\"' + name + '\"><i class=\"fa ' + image + ' fa-lg\"></i></button>');\n",
       "        button.click(method_name, toolbar_event);\n",
       "        button.mouseover(tooltip, toolbar_mouse_event);\n",
       "        nav_element.append(button);\n",
       "    }\n",
       "\n",
       "    // Add the status bar.\n",
       "    var status_bar = $('<span class=\"mpl-message\" style=\"text-align:right; float: right;\"/>');\n",
       "    nav_element.append(status_bar);\n",
       "    this.message = status_bar[0];\n",
       "\n",
       "    // Add the close button to the window.\n",
       "    var buttongrp = $('<div class=\"btn-group inline pull-right\"></div>');\n",
       "    var button = $('<button class=\"btn btn-mini btn-primary\" href=\"#\" title=\"Stop Interaction\"><i class=\"fa fa-power-off icon-remove icon-large\"></i></button>');\n",
       "    button.click(function (evt) { fig.handle_close(fig, {}); } );\n",
       "    button.mouseover('Stop Interaction', toolbar_mouse_event);\n",
       "    buttongrp.append(button);\n",
       "    var titlebar = this.root.find($('.ui-dialog-titlebar'));\n",
       "    titlebar.prepend(buttongrp);\n",
       "}\n",
       "\n",
       "mpl.figure.prototype._root_extra_style = function(el){\n",
       "    var fig = this\n",
       "    el.on(\"remove\", function(){\n",
       "\tfig.close_ws(fig, {});\n",
       "    });\n",
       "}\n",
       "\n",
       "mpl.figure.prototype._canvas_extra_style = function(el){\n",
       "    // this is important to make the div 'focusable\n",
       "    el.attr('tabindex', 0)\n",
       "    // reach out to IPython and tell the keyboard manager to turn it's self\n",
       "    // off when our div gets focus\n",
       "\n",
       "    // location in version 3\n",
       "    if (IPython.notebook.keyboard_manager) {\n",
       "        IPython.notebook.keyboard_manager.register_events(el);\n",
       "    }\n",
       "    else {\n",
       "        // location in version 2\n",
       "        IPython.keyboard_manager.register_events(el);\n",
       "    }\n",
       "\n",
       "}\n",
       "\n",
       "mpl.figure.prototype._key_event_extra = function(event, name) {\n",
       "    var manager = IPython.notebook.keyboard_manager;\n",
       "    if (!manager)\n",
       "        manager = IPython.keyboard_manager;\n",
       "\n",
       "    // Check for shift+enter\n",
       "    if (event.shiftKey && event.which == 13) {\n",
       "        this.canvas_div.blur();\n",
       "        // select the cell after this one\n",
       "        var index = IPython.notebook.find_cell_index(this.cell_info[0]);\n",
       "        IPython.notebook.select(index + 1);\n",
       "    }\n",
       "}\n",
       "\n",
       "mpl.figure.prototype.handle_save = function(fig, msg) {\n",
       "    fig.ondownload(fig, null);\n",
       "}\n",
       "\n",
       "\n",
       "mpl.find_output_cell = function(html_output) {\n",
       "    // Return the cell and output element which can be found *uniquely* in the notebook.\n",
       "    // Note - this is a bit hacky, but it is done because the \"notebook_saving.Notebook\"\n",
       "    // IPython event is triggered only after the cells have been serialised, which for\n",
       "    // our purposes (turning an active figure into a static one), is too late.\n",
       "    var cells = IPython.notebook.get_cells();\n",
       "    var ncells = cells.length;\n",
       "    for (var i=0; i<ncells; i++) {\n",
       "        var cell = cells[i];\n",
       "        if (cell.cell_type === 'code'){\n",
       "            for (var j=0; j<cell.output_area.outputs.length; j++) {\n",
       "                var data = cell.output_area.outputs[j];\n",
       "                if (data.data) {\n",
       "                    // IPython >= 3 moved mimebundle to data attribute of output\n",
       "                    data = data.data;\n",
       "                }\n",
       "                if (data['text/html'] == html_output) {\n",
       "                    return [cell, data, j];\n",
       "                }\n",
       "            }\n",
       "        }\n",
       "    }\n",
       "}\n",
       "\n",
       "// Register the function which deals with the matplotlib target/channel.\n",
       "// The kernel may be null if the page has been refreshed.\n",
       "if (IPython.notebook.kernel != null) {\n",
       "    IPython.notebook.kernel.comm_manager.register_target('matplotlib', mpl.mpl_figure_comm);\n",
       "}\n"
      ],
      "text/plain": [
       "<IPython.core.display.Javascript object>"
      ]
     },
     "metadata": {},
     "output_type": "display_data"
    },
    {
     "data": {
      "text/html": [
       "<img src=\"data:image/png;base64,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\" width=\"639.3999771332749\">"
      ],
      "text/plain": [
       "<IPython.core.display.HTML object>"
      ]
     },
     "metadata": {},
     "output_type": "display_data"
    }
   ],
   "source": [
    "from PIL import Image\n",
    "from matplotlib.pylab import imshow, show\n",
    "img = Image.open('python_numpy.png')\n",
    "imshow(img); show()"
   ]
  },
  {
   "cell_type": "code",
   "execution_count": 15,
   "metadata": {
    "collapsed": false
   },
   "outputs": [
    {
     "name": "stdout",
     "output_type": "stream",
     "text": [
      "/* Python\n",
      "def mandel(x, y, max_iters):\n",
      "    \"\"\"\n",
      "    Given the real and imaginary parts of a complex number,\n",
      "    determine if it is a candidate for membership in the Mandelbrot\n",
      "    set given a fixed number of iterations.\n",
      "    \"\"\"\n",
      "    i = 0\n",
      "    c = complex(x,y)\n",
      "    z = 0.0j\n",
      "    for i in range(max_iters):\n",
      "        z = z*z + c\n",
      "        if (z.real*z.real + z.imag*z.imag) >= 4:\n",
      "            return i\n",
      "\n",
      "    return 255\n",
      "*/\n",
      "\n",
      "#include <complex.h>\n",
      "\n",
      "int mandel(int x, int y, int max_iters, unsigned int * val)\n",
      "{\n",
      "    int i = 0;\n",
      "    _Complex float c = CMPLX(x, y);\n",
      "    _Complex float z = CMPLX(0, 0);\n",
      "    for (i = 0; i < max_iters; i++)\n",
      "    {\n",
      "        z = z * z + c;\n",
      "        if ((crealf(z) * crealf(z) + cimagf(z) * cimagf(z)) >= 4)\n",
      "        {\n",
      "            *val = i;\n",
      "            return 0;\n",
      "        }\n",
      "    }\n",
      "    *val = 255;\n",
      "    return 1;\n",
      "}\n"
     ]
    }
   ],
   "source": [
    "%%bash \n",
    "cat mandel.c"
   ]
  },
  {
   "cell_type": "code",
   "execution_count": 16,
   "metadata": {
    "collapsed": false
   },
   "outputs": [
    {
     "name": "stdout",
     "output_type": "stream",
     "text": [
      "int mandel(int x, int y, int max_iters, unsigned int * val);\n",
      "\n",
      "void create_fractal(unsigned int * image, int width, int height, \n",
      "                    int iters) {\n",
      "    float pixel_size_x = 3.0 / width;\n",
      "    float pixel_size_y = 2.0 / height;\n",
      "    for (int y=0; y<height; y++) {\n",
      "        float imag = y * pixel_size_y - 1;\n",
      "        int yy = y * width;\n",
      "        for (int x=0; x<width; x++) {\n",
      "            float real = x * pixel_size_x - 2;\n",
      "            unsigned int color;\n",
      "            int ret = mandel(real, imag, iters, &color);\n",
      "            image[yy + x] = color;\n",
      "        }\n",
      "    }\n",
      "}\n"
     ]
    }
   ],
   "source": [
    "%%bash \n",
    "cat create_fractal.c"
   ]
  },
  {
   "cell_type": "code",
   "execution_count": 17,
   "metadata": {
    "collapsed": false
   },
   "outputs": [
    {
     "name": "stdout",
     "output_type": "stream",
     "text": [
      "#include <stdio.h>\n",
      "#include <pgm.h>\n",
      "#include <time.h>\n",
      "\n",
      "// call this function to start a nanosecond-resolution timer\n",
      "struct timespec timer_start(){\n",
      "    struct timespec start_time;\n",
      "    clock_gettime(CLOCK_PROCESS_CPUTIME_ID, &start_time);\n",
      "    return start_time;\n",
      "}\n",
      "\n",
      "// call this function to end a timer, returning nanoseconds elapsed as a long\n",
      "long timer_end(struct timespec start_time){\n",
      "    struct timespec end_time;\n",
      "    clock_gettime(CLOCK_PROCESS_CPUTIME_ID, &end_time);\n",
      "    long diffInNanos = end_time.tv_nsec - start_time.tv_nsec;\n",
      "    return diffInNanos;\n",
      "}\n",
      "\n",
      "int mandel(int x, int y, int max_iters, unsigned int * val);\n",
      "\n",
      "void create_fractal(unsigned int * image, int width, int height, \n",
      "                    int iters);\n",
      "\n",
      "int main(int argc, const char *argv[], const char * env[])\n",
      "{\n",
      "    int width = 1500;\n",
      "    int height = 1000;\n",
      "    int iters = 20;\n",
      "    FILE * fid = NULL;\n",
      "    struct timespec vartime;\n",
      "    long time_elapsed_nanos;\n",
      "    unsigned int * image = (unsigned int*)malloc(width * height * sizeof(unsigned int));\n",
      "    if (NULL == image)\n",
      "        return -1;\n",
      "    fid = fopen(\"c.pgm\", \"wb\");\n",
      "    if (NULL == fid)\n",
      "        return -2;\n",
      "    vartime = timer_start();\n",
      "    create_fractal(image, width, height, iters);\n",
      "    time_elapsed_nanos = timer_end(vartime);\n",
      "    fprintf(stdout, \"create_fractal required %ld millisecs\\n\", time_elapsed_nanos / 1000000);\n",
      "    pgm_writepgminit(fid, width, height, 255, 0);\n",
      "    for (int i=0; i<height; i++)\n",
      "        pgm_writepgmrow(fid, image + width*i, width, 255, 0);\n",
      "    fclose(fid);\n",
      "    return 0;\n",
      "}\n"
     ]
    }
   ],
   "source": [
    "%%bash\n",
    "cat main.c"
   ]
  },
  {
   "cell_type": "code",
   "execution_count": 18,
   "metadata": {
    "collapsed": false
   },
   "outputs": [
    {
     "name": "stdout",
     "output_type": "stream",
     "text": [
      "create_fractal required 484 millisecs\n"
     ]
    },
    {
     "name": "stderr",
     "output_type": "stream",
     "text": [
      "\n",
      "real\t0m0.498s\n",
      "user\t0m0.496s\n",
      "sys\t0m0.000s\n"
     ]
    }
   ],
   "source": [
    "%%bash\n",
    "gcc -O3 mandel.c create_fractal.c main.c -lnetpbm -o create_fractal\n",
    "time ./create_fractal"
   ]
  },
  {
   "cell_type": "code",
   "execution_count": 19,
   "metadata": {
    "collapsed": false
   },
   "outputs": [],
   "source": [
    "from PIL import Image\n",
    "from matplotlib.pylab import imshow, show\n",
    "img = Image.open('c.pgm')\n",
    "imshow(img); show()"
   ]
  },
  {
   "cell_type": "code",
   "execution_count": 20,
   "metadata": {
    "collapsed": false
   },
   "outputs": [
    {
     "name": "stdout",
     "output_type": "stream",
     "text": [
      "max 255\n"
     ]
    }
   ],
   "source": [
    "# Compare the images\n",
    "from PIL import Image\n",
    "import numpy as np\n",
    "pyimg = np.array(Image.open('python_numpy.png'))\n",
    "cimg = np.array(Image.open('c.pgm'))\n",
    "print('max', np.abs(pyimg - cimg).max() )\n"
   ]
  },
  {
   "cell_type": "code",
   "execution_count": null,
   "metadata": {
    "collapsed": true
   },
   "outputs": [],
   "source": []
  }
 ],
 "metadata": {
  "anaconda-cloud": {},
  "celltoolbar": "Slideshow",
  "kernelspec": {
   "display_name": "Python 2",
   "language": "python",
   "name": "python2"
  },
  "language_info": {
   "codemirror_mode": {
    "name": "ipython",
    "version": 2
   },
   "file_extension": ".py",
   "mimetype": "text/x-python",
   "name": "python",
   "nbconvert_exporter": "python",
   "pygments_lexer": "ipython2",
   "version": "2.7.13"
  },
  "nbpresent": {
   "slides": {
    "3d7e0ae8-9433-41ca-9945-a70ab1cdc407": {
     "id": "3d7e0ae8-9433-41ca-9945-a70ab1cdc407",
     "prev": null,
     "regions": {
      "ef798202-f2ac-4910-b3d0-355e299c77e0": {
       "attrs": {
        "height": 0.8,
        "width": 0.4285918953963893,
        "x": 0.1,
        "y": 0.1
       },
       "content": {
        "cell": "d84a79e5-1ef9-4dea-9e2e-690a912553b4",
        "part": "source"
       },
       "id": "ef798202-f2ac-4910-b3d0-355e299c77e0"
      },
      "ffa9a20f-bcd2-42a0-93d4-624aa8557a8e": {
       "attrs": {
        "height": 0.8,
        "width": 0.37385806945480454,
        "x": 0.5261419305451954,
        "y": 0.1
       },
       "content": {
        "cell": "0cfda04e-01da-4674-a90f-b132bbebf844",
        "part": "whole"
       },
       "id": "ffa9a20f-bcd2-42a0-93d4-624aa8557a8e"
      }
     },
     "theme": null
    },
    "66d2e406-0d60-4c2f-8e26-f759144b0c42": {
     "id": "66d2e406-0d60-4c2f-8e26-f759144b0c42",
     "layout": "manual",
     "prev": "3d7e0ae8-9433-41ca-9945-a70ab1cdc407",
     "regions": {
      "7b7fb698-b074-4c21-b6a5-88388cc996d5": {
       "attrs": {
        "height": 1,
        "pad": 0.01,
        "treemap:weight": 1,
        "width": 0.9929627938075105,
        "x": 0,
        "y": 0
       },
       "content": {
        "cell": "7a62ed08-bb60-4ebb-b5f2-fbb7af3a0b6e",
        "part": "source"
       },
       "id": "7b7fb698-b074-4c21-b6a5-88388cc996d5",
       "width": 0.9
      }
     },
     "theme": "8dd001b3-e9f9-4ba4-87ee-66b904d235e3"
    },
    "cdcb633d-b1c7-4fac-9f4f-983b7d9b79df": {
     "id": "cdcb633d-b1c7-4fac-9f4f-983b7d9b79df",
     "prev": "66d2e406-0d60-4c2f-8e26-f759144b0c42",
     "regions": {
      "6b8dc0c9-d025-456a-aa63-150ce1940bf5": {
       "attrs": {
        "height": 1,
        "width": 1,
        "x": 0,
        "y": 0
       },
       "content": {
        "cell": "c687a4f1-bace-4d72-8fdf-d08ae4c34a19",
        "part": "source"
       },
       "id": "6b8dc0c9-d025-456a-aa63-150ce1940bf5"
      }
     }
    },
    "dd4d838c-6cab-454b-92e0-deec09a65fe3": {
     "id": "dd4d838c-6cab-454b-92e0-deec09a65fe3",
     "prev": "cdcb633d-b1c7-4fac-9f4f-983b7d9b79df",
     "regions": {
      "8b3abebf-eec7-414f-8165-37e78adf3a2d": {
       "attrs": {
        "height": 1,
        "width": 1,
        "x": 0,
        "y": 0
       },
       "content": {
        "cell": "ab8a8171-ccc1-40d7-88fb-e05d0ae3dd40",
        "part": "source"
       },
       "id": "8b3abebf-eec7-414f-8165-37e78adf3a2d"
      }
     }
    }
   },
   "themes": {
    "default": "8dd001b3-e9f9-4ba4-87ee-66b904d235e3",
    "theme": {
     "8dd001b3-e9f9-4ba4-87ee-66b904d235e3": {
      "backgrounds": {
       "backgroundColor": {
        "background-color": "backgroundColor",
        "id": "backgroundColor"
       }
      },
      "id": "8dd001b3-e9f9-4ba4-87ee-66b904d235e3",
      "palette": {
       "backgroundColor": {
        "id": "backgroundColor",
        "rgb": [
         256,
         256,
         256
        ]
       },
       "headingColor": {
        "id": "headingColor",
        "rgb": [
         0,
         0,
         0
        ]
       },
       "linkColor": {
        "id": "linkColor",
        "rgb": [
         0,
         0,
         139
        ]
       },
       "mainColor": {
        "id": "mainColor",
        "rgb": [
         0,
         0,
         0
        ]
       }
      },
      "rules": {
       "a": {
        "color": "linkColor"
       },
       "h1": {
        "color": "headingColor",
        "font-family": "News Cycle",
        "font-size": 7
       },
       "h2": {
        "color": "headingColor",
        "font-family": "News Cycle",
        "font-size": 5
       },
       "h3": {
        "color": "headingColor",
        "font-family": "News Cycle",
        "font-size": 3.75
       },
       "h4": {
        "color": "headingColor",
        "font-family": "News Cycle",
        "font-size": 3
       },
       "h5": {
        "color": "headingColor",
        "font-family": "News Cycle"
       },
       "h6": {
        "color": "headingColor",
        "font-family": "News Cycle"
       },
       "h7": {
        "color": "headingColor",
        "font-family": "News Cycle"
       },
       "li": {
        "color": "mainColor",
        "font-family": "Lato",
        "font-size": 5
       },
       "p": {
        "color": "mainColor",
        "font-family": "Lato",
        "font-size": 5
       }
      },
      "text-base": {
       "color": "mainColor",
       "font-family": "Lato",
       "font-size": 5
      }
     },
     "d7885e3c-5b9e-4f88-86e4-94492910f1eb": {
      "id": "d7885e3c-5b9e-4f88-86e4-94492910f1eb",
      "palette": {
       "19cc588f-0593-49c9-9f4b-e4d7cc113b1c": {
        "id": "19cc588f-0593-49c9-9f4b-e4d7cc113b1c",
        "rgb": [
         252,
         252,
         252
        ]
       },
       "31af15d2-7e15-44c5-ab5e-e04b16a89eff": {
        "id": "31af15d2-7e15-44c5-ab5e-e04b16a89eff",
        "rgb": [
         68,
         68,
         68
        ]
       },
       "50f92c45-a630-455b-aec3-788680ec7410": {
        "id": "50f92c45-a630-455b-aec3-788680ec7410",
        "rgb": [
         155,
         177,
         192
        ]
       },
       "c5cc3653-2ee1-402a-aba2-7caae1da4f6c": {
        "id": "c5cc3653-2ee1-402a-aba2-7caae1da4f6c",
        "rgb": [
         43,
         126,
         184
        ]
       },
       "efa7f048-9acb-414c-8b04-a26811511a21": {
        "id": "efa7f048-9acb-414c-8b04-a26811511a21",
        "rgb": [
         25.118061674008803,
         73.60176211453744,
         107.4819383259912
        ]
       }
      },
      "rules": {
       "blockquote": {
        "color": "50f92c45-a630-455b-aec3-788680ec7410"
       },
       "code": {
        "font-family": "Anonymous Pro"
       },
       "h1": {
        "color": "c5cc3653-2ee1-402a-aba2-7caae1da4f6c",
        "font-family": "Lato",
        "font-size": 8
       },
       "h2": {
        "color": "c5cc3653-2ee1-402a-aba2-7caae1da4f6c",
        "font-family": "Lato",
        "font-size": 6
       },
       "h3": {
        "color": "50f92c45-a630-455b-aec3-788680ec7410",
        "font-family": "Lato",
        "font-size": 5.5
       },
       "h4": {
        "color": "c5cc3653-2ee1-402a-aba2-7caae1da4f6c",
        "font-family": "Lato",
        "font-size": 5
       },
       "h5": {
        "font-family": "Lato"
       },
       "h6": {
        "font-family": "Lato"
       },
       "h7": {
        "font-family": "Lato"
       },
       "pre": {
        "font-family": "Anonymous Pro",
        "font-size": 4
       }
      },
      "text-base": {
       "font-family": "Merriweather",
       "font-size": 4
      }
     },
     "e79b84d5-69ce-40e1-930c-03655171b3c8": {
      "backgrounds": {
       "backgroundColor": {
        "background-color": "backgroundColor",
        "id": "backgroundColor"
       }
      },
      "id": "e79b84d5-69ce-40e1-930c-03655171b3c8",
      "palette": {
       "backgroundColor": {
        "id": "backgroundColor",
        "rgb": [
         43,
         43,
         43
        ]
       },
       "headingColor": {
        "id": "headingColor",
        "rgb": [
         238,
         238,
         238
        ]
       },
       "linkColor": {
        "id": "linkColor",
        "rgb": [
         19,
         218,
         236
        ]
       },
       "mainColor": {
        "id": "mainColor",
        "rgb": [
         238,
         238,
         238
        ]
       }
      },
      "rules": {
       "a": {
        "color": "linkColor"
       },
       "h1": {
        "color": "headingColor",
        "font-family": "Oswald",
        "font-size": 7
       },
       "h2": {
        "color": "headingColor",
        "font-family": "Oswald",
        "font-size": 5
       },
       "h3": {
        "color": "headingColor",
        "font-family": "Oswald",
        "font-size": 3.75
       },
       "h4": {
        "color": "headingColor",
        "font-family": "Oswald",
        "font-size": 3
       },
       "h5": {
        "color": "headingColor",
        "font-family": "Oswald"
       },
       "h6": {
        "color": "headingColor",
        "font-family": "Oswald"
       },
       "h7": {
        "color": "headingColor",
        "font-family": "Oswald"
       },
       "li": {
        "color": "mainColor",
        "font-family": "Lato",
        "font-size": 5
       },
       "p": {
        "color": "mainColor",
        "font-family": "Lato",
        "font-size": 5
       }
      },
      "text-base": {
       "color": "mainColor",
       "font-family": "Lato",
       "font-size": 5
      }
     }
    }
   }
  }
 },
 "nbformat": 4,
 "nbformat_minor": 2
}
